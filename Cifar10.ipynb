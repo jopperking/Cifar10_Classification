{
 "cells": [
  {
   "cell_type": "markdown",
   "metadata": {},
   "source": [
    "<h1><center><div style=\"direction:rtl;font-family:B Lotus, B Nazanin, Tahoma\"> بسم الله الرحمن الرحیم</div></center></h1>"
   ]
  },
  {
   "cell_type": "markdown",
   "metadata": {},
   "source": [
    "<h1><center><div style=\"direction:rtl;font-family:B Lotus, B Nazanin, Tahoma\">\n",
    "Cifar10 Dataset classification using Fully connected Neural Network</div></center></h1>\n"
   ]
  },
  {
   "cell_type": "markdown",
   "metadata": {},
   "source": [
    "# <div style=\"direction:ltr;text-align:left;font-family:B Lotus, B Nazanin, Tahoma\">  Load required libraries</div>"
   ]
  },
  {
   "cell_type": "code",
   "execution_count": null,
   "metadata": {},
   "outputs": [],
   "source": [
    "from tensorflow import keras\n",
    "import numpy as np\n",
    "import matplotlib.pyplot as plt\n",
    "%matplotlib inline"
   ]
  },
  {
   "cell_type": "markdown",
   "metadata": {},
   "source": [
    "## <div style=\"direction:ltr;text-align:left;font-family:B Lotus, B Nazanin, Tahoma\">About Cifar10 Dataset</div>\n",
    "<div style=\"direction:ltr;text-align:left;font-family:Tahoma\">\n",
    "<br>This dataset of color images in the size of 32 by 32 and in 10 different classes, including cars, trucks, horses, etc., is available in the framework of Keras and we use the same.\n",
    "<br><br>\n",
    "You can read more about this data set from the site of this data set:<br>\n",
    "</div>\n",
    "\n",
    "https://www.cs.toronto.edu/~kriz/cifar.html"
   ]
  },
  {
   "cell_type": "markdown",
   "metadata": {},
   "source": []
  }
 ],
 "metadata": {
  "interpreter": {
   "hash": "916dbcbb3f70747c44a77c7bcd40155683ae19c65e1c03b4aa3499c5328201f1"
  },
  "kernelspec": {
   "display_name": "Python 3.9.7 64-bit",
   "language": "python",
   "name": "python3"
  },
  "language_info": {
   "name": "python",
   "version": "3.9.7"
  },
  "orig_nbformat": 4
 },
 "nbformat": 4,
 "nbformat_minor": 2
}

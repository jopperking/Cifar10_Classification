{
 "cells": [
  {
   "cell_type": "markdown",
   "metadata": {},
   "source": [
    "<h1><center><div style=\"direction:rtl;font-family:B Lotus, B Nazanin, Tahoma\"> بسم الله الرحمن الرحیم</div></center></h1>"
   ]
  },
  {
   "cell_type": "markdown",
   "metadata": {},
   "source": [
    "<h1><center><div style=\"direction:rtl;font-family:B Lotus, B Nazanin, Tahoma\">\n",
    "Cifar10 Dataset classification using Fully connected Neural Network</div></center></h1>\n"
   ]
  },
  {
   "cell_type": "markdown",
   "metadata": {},
   "source": [
    "# <div style=\"direction:ltr;text-align:left;font-family:B Lotus, B Nazanin, Tahoma\">  Load required libraries</div>"
   ]
  },
  {
   "cell_type": "code",
   "execution_count": 3,
   "metadata": {},
   "outputs": [
    {
     "name": "stderr",
     "output_type": "stream",
     "text": [
      "2022-03-18 19:57:30.167370: W tensorflow/stream_executor/platform/default/dso_loader.cc:64] Could not load dynamic library 'libcudart.so.11.0'; dlerror: libcudart.so.11.0: cannot open shared object file: No such file or directory\n",
      "2022-03-18 19:57:30.167415: I tensorflow/stream_executor/cuda/cudart_stub.cc:29] Ignore above cudart dlerror if you do not have a GPU set up on your machine.\n"
     ]
    }
   ],
   "source": [
    "from tensorflow import keras\n",
    "import numpy as np\n",
    "import matplotlib.pyplot as plt\n",
    "%matplotlib inline"
   ]
  },
  {
   "cell_type": "markdown",
   "metadata": {},
   "source": [
    "## <div style=\"direction:ltr;text-align:left;font-family:B Lotus, B Nazanin, Tahoma\">About Cifar10 Dataset</div>\n",
    "<div style=\"direction:ltr;text-align:left;font-family:Tahoma\">\n",
    "<br>This dataset of color images in the size of 32 by 32 and in 10 different classes, including cars, trucks, horses, etc., is available in the framework of Keras and we use the same.\n",
    "<br><br>\n",
    "You can read more about this data set from the site of this data set:<br>\n",
    "</div>\n",
    "\n",
    "https://www.cs.toronto.edu/~kriz/cifar.html"
   ]
  },
  {
   "cell_type": "markdown",
   "metadata": {},
   "source": [
    "# + Load Dataset"
   ]
  },
  {
   "cell_type": "code",
   "execution_count": 4,
   "metadata": {},
   "outputs": [],
   "source": [
    "from keras.datasets import cifar10\n",
    "(x_train, y_train), (x_test, y_test) = cifar10.load_data()"
   ]
  },
  {
   "cell_type": "markdown",
   "metadata": {},
   "source": [
    "## <div style=\"direction:ltr;text-align:left;font-family:B Lotus, B Nazanin, Tahoma\">Take a look at the dataset ...</div>\n",
    "<div style=\"direction:ltr;text-align:left;font-family:Tahoma\">Change the index of this photo and see a few more images in this dataset.</div>"
   ]
  },
  {
   "cell_type": "code",
   "execution_count": 5,
   "metadata": {},
   "outputs": [
    {
     "data": {
      "text/plain": [
       "<matplotlib.image.AxesImage at 0x7f0f9df9b5b0>"
      ]
     },
     "execution_count": 5,
     "metadata": {},
     "output_type": "execute_result"
    },
    {
     "data": {
      "image/png": "[encoded data removed]",
      "text/plain": [
       "<Figure size 432x288 with 1 Axes>"
      ]
     },
     "metadata": {
      "needs_background": "light"
     },
     "output_type": "display_data"
    }
   ],
   "source": [
    "plt.imshow(x_train[65]) # change the index '65'"
   ]
  },
  {
   "cell_type": "markdown",
   "metadata": {},
   "source": [
    "# + Preprocessing"
   ]
  },
  {
   "cell_type": "markdown",
   "metadata": {},
   "source": [
    "### <div style=\"direction:ltr;text-align:left;font-family:B Lotus, B Nazanin, Tahoma\">Convert 3 channel images into grayscale</div>"
   ]
  },
  {
   "cell_type": "code",
   "execution_count": 6,
   "metadata": {},
   "outputs": [
    {
     "data": {
      "text/plain": [
       "50000"
      ]
     },
     "execution_count": 6,
     "metadata": {},
     "output_type": "execute_result"
    }
   ],
   "source": [
    "number_of_pictures_train = x_train.shape[0]\n",
    "number_of_pictures_test = x_test.shape[0]\n",
    "\n",
    "number_of_pictures_train"
   ]
  },
  {
   "cell_type": "code",
   "execution_count": 7,
   "metadata": {},
   "outputs": [],
   "source": [
    "x_train_gray = []\n",
    "x_test_gray = []\n",
    "\n",
    "def rgb2gray(rgb):\n",
    "    return np.dot(rgb[...,:3], [0.299, 0.587, 0.114]).astype(int)\n",
    "\n",
    "for i in range(0,number_of_pictures_train):\n",
    "    x_train_gray.append(rgb2gray(x_train[i])) # storing converted images\n",
    "\n",
    "x_train_gray = np.array(x_train_gray) # convert list to np array\n",
    "\n",
    "for i in range(0,number_of_pictures_test):\n",
    "    x_test_gray.append(rgb2gray(x_test[i]))\n",
    "\n",
    "x_test_gray = np.array(x_test_gray)"
   ]
  },
  {
   "cell_type": "markdown",
   "metadata": {},
   "source": [
    "### <div style=\"direction:ltr;text-align:left;font-family:B Lotus, B Nazanin, Tahoma\">Change datatype of features to float32</div>"
   ]
  },
  {
   "cell_type": "code",
   "execution_count": 8,
   "metadata": {},
   "outputs": [],
   "source": [
    "x_train_gray = x_train_gray.astype('float32')\n",
    "x_test_gray =  x_test_gray.astype('float32')"
   ]
  },
  {
   "cell_type": "markdown",
   "metadata": {},
   "source": [
    "### <div style=\"direction:ltr;text-align:left;font-family:B Lotus, B Nazanin, Tahoma\">Normalizing</div>"
   ]
  },
  {
   "cell_type": "code",
   "execution_count": 9,
   "metadata": {},
   "outputs": [],
   "source": [
    "x_train_gray /= 255\n",
    "x_test_gray /= 255"
   ]
  },
  {
   "cell_type": "markdown",
   "metadata": {},
   "source": [
    "### <div style=\"direction:ltr;text-align:left;font-family:B Lotus, B Nazanin, Tahoma\">Reshape features to only one dimension</div>"
   ]
  },
  {
   "cell_type": "code",
   "execution_count": 10,
   "metadata": {},
   "outputs": [
    {
     "data": {
      "text/plain": [
       "(50000, 1024)"
      ]
     },
     "execution_count": 10,
     "metadata": {},
     "output_type": "execute_result"
    }
   ],
   "source": [
    "x_train_gray = x_train_gray.reshape(number_of_pictures_train,-1) # (... , 32 , 32) ==> (...,32*32)\n",
    "x_test_gray =  x_test_gray.reshape(number_of_pictures_test,-1)\n",
    "\n",
    "x_train_gray.shape # print"
   ]
  },
  {
   "cell_type": "code",
   "execution_count": 11,
   "metadata": {},
   "outputs": [
    {
     "data": {
      "text/plain": [
       "1024"
      ]
     },
     "execution_count": 11,
     "metadata": {},
     "output_type": "execute_result"
    }
   ],
   "source": [
    "dimension = list(x_train_gray.shape)[1] # (size,dimension)\n",
    "dimension"
   ]
  },
  {
   "cell_type": "markdown",
   "metadata": {},
   "source": [
    "### <div style=\"direction:ltr;text-align:left;font-family:B Lotus, B Nazanin, Tahoma\">Convert numeric labels to one-hot format</div>"
   ]
  },
  {
   "cell_type": "code",
   "execution_count": 12,
   "metadata": {},
   "outputs": [
    {
     "data": {
      "text/plain": [
       "10"
      ]
     },
     "execution_count": 12,
     "metadata": {},
     "output_type": "execute_result"
    }
   ],
   "source": [
    "numof_classes = len(np.unique(y_test)) # Storing for using as number of last layer neurons\n",
    "\n",
    "y_train = keras.utils.to_categorical(y_train,num_classes=numof_classes)\n",
    "y_test = keras.utils.to_categorical(y_test,num_classes=numof_classes)\n",
    "\n",
    "numof_classes"
   ]
  },
  {
   "cell_type": "markdown",
   "metadata": {},
   "source": [
    "# + Initial Neural Network"
   ]
  },
  {
   "cell_type": "code",
   "execution_count": 13,
   "metadata": {},
   "outputs": [
    {
     "name": "stdout",
     "output_type": "stream",
     "text": [
      "Model: \"sequential\"\n",
      "_________________________________________________________________\n",
      " Layer (type)                Output Shape              Param #   \n",
      "=================================================================\n",
      " dense (Dense)               (None, 101)               103525    \n",
      "                                                                 \n",
      " dense_1 (Dense)             (None, 101)               10302     \n",
      "                                                                 \n",
      " dropout (Dropout)           (None, 101)               0         \n",
      "                                                                 \n",
      " dense_2 (Dense)             (None, 101)               10302     \n",
      "                                                                 \n",
      " dropout_1 (Dropout)         (None, 101)               0         \n",
      "                                                                 \n",
      " dense_3 (Dense)             (None, 101)               10302     \n",
      "                                                                 \n",
      " dropout_2 (Dropout)         (None, 101)               0         \n",
      "                                                                 \n",
      " dense_4 (Dense)             (None, 101)               10302     \n",
      "                                                                 \n",
      " dropout_3 (Dropout)         (None, 101)               0         \n",
      "                                                                 \n",
      " dense_5 (Dense)             (None, 10)                1020      \n",
      "                                                                 \n",
      "=================================================================\n",
      "Total params: 145,753\n",
      "Trainable params: 145,753\n",
      "Non-trainable params: 0\n",
      "_________________________________________________________________\n"
     ]
    },
    {
     "name": "stderr",
     "output_type": "stream",
     "text": [
      "2022-03-18 19:57:43.423925: W tensorflow/stream_executor/platform/default/dso_loader.cc:64] Could not load dynamic library 'libcuda.so.1'; dlerror: libcuda.so.1: cannot open shared object file: No such file or directory\n",
      "2022-03-18 19:57:43.424018: W tensorflow/stream_executor/cuda/cuda_driver.cc:269] failed call to cuInit: UNKNOWN ERROR (303)\n",
      "2022-03-18 19:57:43.424061: I tensorflow/stream_executor/cuda/cuda_diagnostics.cc:156] kernel driver does not appear to be running on this host (mahdi-X550IK): /proc/driver/nvidia/version does not exist\n",
      "2022-03-18 19:57:43.424707: I tensorflow/core/platform/cpu_feature_guard.cc:151] This TensorFlow binary is optimized with oneAPI Deep Neural Network Library (oneDNN) to use the following CPU instructions in performance-critical operations:  AVX2 FMA\n",
      "To enable them in other operations, rebuild TensorFlow with the appropriate compiler flags.\n"
     ]
    }
   ],
   "source": [
    "from keras.models import Sequential # to create Sequential layers\n",
    "from keras.layers import Dense, Dropout\n",
    "\n",
    "model = Sequential() # Initial Model\n",
    "model.add(Dense(101 , activation='relu' , input_dim =x_train_gray.shape[1])) # 1st Layer\n",
    "model.add(Dense(101 , activation='relu' )) # 2nd Layer\n",
    "model.add(Dropout(0.2)) # Droupout ( kill 20% of neurons)\n",
    "model.add(Dense(101 , activation='relu' )) # 3rd Layer\n",
    "model.add(Dropout(0.2)) \n",
    "model.add(Dense(101 , activation='relu' )) # 4th Layer\n",
    "model.add(Dropout(0.2)) \n",
    "model.add(Dense(101 , activation='relu' )) # 5th Layer\n",
    "model.add(Dropout(0.2)) \n",
    "model.add(Dense(numof_classes, activation='softmax')) # Final Layer\n",
    "\n",
    "model.summary() # get info about model"
   ]
  },
  {
   "cell_type": "markdown",
   "metadata": {},
   "source": [
    "# + Compile"
   ]
  },
  {
   "cell_type": "code",
   "execution_count": 14,
   "metadata": {},
   "outputs": [],
   "source": [
    "opt_rms = keras.optimizers.RMSprop(learning_rate=0.001,decay=1e-6) # define \n",
    "model.compile(loss='categorical_crossentropy',\n",
    "              optimizer=opt_rms,\n",
    "              metrics=['accuracy'])"
   ]
  },
  {
   "cell_type": "markdown",
   "metadata": {},
   "source": [
    "# + Learning"
   ]
  },
  {
   "cell_type": "code",
   "execution_count": 15,
   "metadata": {},
   "outputs": [
    {
     "name": "stderr",
     "output_type": "stream",
     "text": [
      "2022-03-18 19:57:43.949263: W tensorflow/core/framework/cpu_allocator_impl.cc:82] Allocation of 163840000 exceeds 10% of free system memory.\n"
     ]
    },
    {
     "name": "stdout",
     "output_type": "stream",
     "text": [
      "Epoch 1/24\n",
      "625/625 [==============================] - 9s 12ms/step - loss: 2.1666 - accuracy: 0.1848 - val_loss: 2.0301 - val_accuracy: 0.2633\n",
      "Epoch 2/24\n",
      "625/625 [==============================] - 7s 11ms/step - loss: 2.0428 - accuracy: 0.2565 - val_loss: 2.0024 - val_accuracy: 0.2760\n",
      "Epoch 3/24\n",
      "625/625 [==============================] - 7s 11ms/step - loss: 1.9904 - accuracy: 0.2816 - val_loss: 1.9242 - val_accuracy: 0.3037\n",
      "Epoch 4/24\n",
      "625/625 [==============================] - 7s 12ms/step - loss: 1.9549 - accuracy: 0.2980 - val_loss: 1.8769 - val_accuracy: 0.3275\n",
      "Epoch 5/24\n",
      "625/625 [==============================] - 7s 11ms/step - loss: 1.9224 - accuracy: 0.3106 - val_loss: 1.8760 - val_accuracy: 0.3189\n",
      "Epoch 6/24\n",
      "625/625 [==============================] - 7s 11ms/step - loss: 1.9020 - accuracy: 0.3183 - val_loss: 1.8548 - val_accuracy: 0.3365\n",
      "Epoch 7/24\n",
      "625/625 [==============================] - 7s 11ms/step - loss: 1.8857 - accuracy: 0.3289 - val_loss: 1.8408 - val_accuracy: 0.3341\n",
      "Epoch 8/24\n",
      "625/625 [==============================] - 7s 12ms/step - loss: 1.8662 - accuracy: 0.3355 - val_loss: 1.8421 - val_accuracy: 0.3433\n",
      "Epoch 9/24\n",
      "625/625 [==============================] - 7s 11ms/step - loss: 1.8512 - accuracy: 0.3386 - val_loss: 1.8183 - val_accuracy: 0.3493\n",
      "Epoch 10/24\n",
      "625/625 [==============================] - 7s 11ms/step - loss: 1.8418 - accuracy: 0.3437 - val_loss: 1.8008 - val_accuracy: 0.3491\n",
      "Epoch 11/24\n",
      "625/625 [==============================] - 7s 11ms/step - loss: 1.8243 - accuracy: 0.3502 - val_loss: 1.8935 - val_accuracy: 0.3139\n",
      "Epoch 12/24\n",
      "625/625 [==============================] - 7s 11ms/step - loss: 1.8158 - accuracy: 0.3554 - val_loss: 1.7927 - val_accuracy: 0.3600\n",
      "Epoch 13/24\n",
      "625/625 [==============================] - 7s 11ms/step - loss: 1.8042 - accuracy: 0.3587 - val_loss: 1.7621 - val_accuracy: 0.3737\n",
      "Epoch 14/24\n",
      "625/625 [==============================] - 7s 11ms/step - loss: 1.7961 - accuracy: 0.3636 - val_loss: 1.7736 - val_accuracy: 0.3661\n",
      "Epoch 15/24\n",
      "625/625 [==============================] - 7s 11ms/step - loss: 1.7872 - accuracy: 0.3656 - val_loss: 1.7650 - val_accuracy: 0.3696\n",
      "Epoch 16/24\n",
      "625/625 [==============================] - 7s 12ms/step - loss: 1.7836 - accuracy: 0.3658 - val_loss: 1.7624 - val_accuracy: 0.3735\n",
      "Epoch 17/24\n",
      "625/625 [==============================] - 7s 11ms/step - loss: 1.7758 - accuracy: 0.3717 - val_loss: 1.7839 - val_accuracy: 0.3677\n",
      "Epoch 18/24\n",
      "625/625 [==============================] - 7s 11ms/step - loss: 1.7766 - accuracy: 0.3670 - val_loss: 1.7434 - val_accuracy: 0.3774\n",
      "Epoch 19/24\n",
      "625/625 [==============================] - 7s 12ms/step - loss: 1.7696 - accuracy: 0.3710 - val_loss: 1.7690 - val_accuracy: 0.3676\n",
      "Epoch 20/24\n",
      "625/625 [==============================] - 7s 11ms/step - loss: 1.7639 - accuracy: 0.3747 - val_loss: 1.7339 - val_accuracy: 0.3793\n",
      "Epoch 21/24\n",
      "625/625 [==============================] - 7s 11ms/step - loss: 1.7578 - accuracy: 0.3797 - val_loss: 1.7335 - val_accuracy: 0.3806\n",
      "Epoch 22/24\n",
      "625/625 [==============================] - 7s 11ms/step - loss: 1.7506 - accuracy: 0.3813 - val_loss: 1.7322 - val_accuracy: 0.3806\n",
      "Epoch 23/24\n",
      "625/625 [==============================] - 7s 11ms/step - loss: 1.7478 - accuracy: 0.3805 - val_loss: 1.7594 - val_accuracy: 0.3712\n",
      "Epoch 24/24\n",
      "625/625 [==============================] - 7s 11ms/step - loss: 1.7414 - accuracy: 0.3836 - val_loss: 1.7249 - val_accuracy: 0.3910\n"
     ]
    }
   ],
   "source": [
    "history = model.fit(x_train_gray, \n",
    "          y_train,\n",
    "          epochs=24,\n",
    "          batch_size= 64,\n",
    "          validation_split=0.2)"
   ]
  },
  {
   "cell_type": "markdown",
   "metadata": {},
   "source": [
    "# + visualization"
   ]
  },
  {
   "cell_type": "code",
   "execution_count": 16,
   "metadata": {},
   "outputs": [
    {
     "data": {
      "image/png": "[encoded data removed]",
      "text/plain": [
       "<Figure size 432x288 with 1 Axes>"
      ]
     },
     "metadata": {
      "needs_background": "light"
     },
     "output_type": "display_data"
    },
    {
     "data": {
      "image/png": "[encoded data removed]",
      "text/plain": [
       "<Figure size 432x288 with 1 Axes>"
      ]
     },
     "metadata": {
      "needs_background": "light"
     },
     "output_type": "display_data"
    }
   ],
   "source": [
    "accuracy = history.history['accuracy'] \n",
    "val_acc = history.history['val_accuracy']\n",
    "\n",
    "loss = history.history['loss']\n",
    "val_loss = history.history['val_loss']\n",
    "\n",
    "epochs = range(len(accuracy))\n",
    "\n",
    "plt.plot(epochs, accuracy, 'bo', label='Training accuracy') # plot the accuracy\n",
    "plt.plot(epochs, val_acc, 'b', label='Validation accuracy') # plot the val accuracy\n",
    "\n",
    "plt.title('Training and validation accuracy')\n",
    "plt.legend()\n",
    "\n",
    "plt.figure()\n",
    "\n",
    "plt.plot(epochs, loss, 'bo', label='Training loss') # plot the loss\n",
    "plt.plot(epochs, val_loss, 'b', label='Validation loss') # plot the val loss\n",
    "\n",
    "plt.title('Training and validation loss')\n",
    "plt.legend()\n",
    "\n",
    "plt.show()"
   ]
  },
  {
   "cell_type": "markdown",
   "metadata": {},
   "source": [
    "# + Evaluatution"
   ]
  },
  {
   "cell_type": "code",
   "execution_count": 17,
   "metadata": {},
   "outputs": [
    {
     "name": "stdout",
     "output_type": "stream",
     "text": [
      "313/313 [==============================] - 2s 5ms/step - loss: 1.7222 - accuracy: 0.3868\n",
      "Final test set loss: 1.722194\n",
      "Final test set accuracy: 0.386800\n"
     ]
    }
   ],
   "source": [
    "# Test on unseen data\n",
    "results = model.evaluate(x_test_gray, y_test)\n",
    "\n",
    "print('Final test set loss: {:4f}'.format(results[0]))\n",
    "print('Final test set accuracy: {:4f}'.format(results[1]))"
   ]
  }
 ],
 "metadata": {
  "interpreter": {
   "hash": "916dbcbb3f70747c44a77c7bcd40155683ae19c65e1c03b4aa3499c5328201f1"
  },
  "kernelspec": {
   "display_name": "Python 3.9.7 64-bit",
   "language": "python",
   "name": "python3"
  },
  "language_info": {
   "codemirror_mode": {
    "name": "ipython",
    "version": 3
   },
   "file_extension": ".py",
   "mimetype": "text/x-python",
   "name": "python",
   "nbconvert_exporter": "python",
   "pygments_lexer": "ipython3",
   "version": "3.9.7"
  },
  "orig_nbformat": 4
 },
 "nbformat": 4,
 "nbformat_minor": 2
}
